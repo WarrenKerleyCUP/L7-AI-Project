{
 "cells": [
  {
   "cell_type": "markdown",
   "id": "89f21fab",
   "metadata": {},
   "source": [
    "# Data Exploration (f_demand_actual)\n",
    "\n",
    "The demand data used by the ELT Demand Planners for forecasting is held in the AWS Redshift data warehouse in the table r2ibp.f_demand_actual. This is daily demand data and has the following structure:\n",
    "\n",
    "- date (daily)\n",
    "- sold_to_customer_key\n",
    "- ship_to_country_key\n",
    "- isbn\n",
    "- quantity_demanded (NB This can be -ve for some countries)\n",
    "\n",
    "This notebook explores the content of this table. It will be the main data source for any new forecasting algorithms used to create the starting point forecast used by Demand Planning. "
   ]
  },
  {
   "cell_type": "code",
   "execution_count": null,
   "id": "3acb0be4",
   "metadata": {},
   "outputs": [],
   "source": [
    "#Library imports\n",
    "\n",
    "from sqlalchemy import create_engine\n",
    "import psycopg2\n",
    "import numpy as np\n",
    "import pandas as pd\n",
    "import datetime as dt\n",
    "import dateutil\n",
    "\n",
    "import matplotlib.pyplot as plt\n",
    "import seaborn as sns\n",
    "%matplotlib inline"
   ]
  },
  {
   "cell_type": "markdown",
   "id": "7360131d",
   "metadata": {},
   "source": [
    "## Retrieve Data from f_demand_actual\n",
    "\n",
    "Get all data from f_demand_actual. NB The demand data is aggregated by month for each isbn/country combination. Only complete months are selected."
   ]
  },
  {
   "cell_type": "code",
   "execution_count": null,
   "id": "77e84784",
   "metadata": {},
   "outputs": [],
   "source": [
    "#Redshift user credentials - set here\n",
    "USER = \n",
    "PASSWORD = \n",
    "\n",
    "#Create SQLAlchemy engine for Redshift database connection\n",
    "user = USER\n",
    "password = PASSWORD\n",
    "host= \n",
    "port='5439'\n",
    "dbname='prod'\n",
    "\n",
    "url = \"postgresql+psycopg2://{0}:{1}@{2}:{3}/{4}\".format(user, password, host, port, dbname)\n",
    "engine = create_engine(url)"
   ]
  },
  {
   "cell_type": "code",
   "execution_count": null,
   "id": "df1bbbb3",
   "metadata": {},
   "outputs": [],
   "source": [
    "query = \"\"\"\n",
    "    select\n",
    "        isbn + ship_to_country_key as key,\n",
    "        isbn,\n",
    "        ship_to_country_key as country,\n",
    "        last_day(date) as month,\n",
    "        sum(quantity_demanded) as qty\n",
    "    from r2ibp.f_demand_actual\n",
    "    where month <= current_date\n",
    "    and isbn not like '555%%'\n",
    "    group by key, isbn, country, month\n",
    "    order by key, isbn, country, month asc\n",
    "    \"\"\"\n",
    "\n",
    "conn = engine.connect()\n",
    "df = pd.read_sql_query(query, conn)\n",
    "conn.close()\n",
    "\n",
    "#Convert month to timestamp\n",
    "df['month'] = pd.to_datetime(df['month']).dt.date"
   ]
  },
  {
   "cell_type": "markdown",
   "id": "464669dd",
   "metadata": {},
   "source": [
    "## Basic Statistics\n",
    "\n",
    "How much data is available? etc."
   ]
  },
  {
   "cell_type": "code",
   "execution_count": null,
   "id": "35c87c02",
   "metadata": {
    "scrolled": true
   },
   "outputs": [],
   "source": [
    "first_month = df['month'].min()\n",
    "last_full_month = df['month'].max()\n",
    "twelve_months_ago =  last_full_month - dateutil.relativedelta.relativedelta(months=12)\n",
    "\n",
    "print('The first month in the dataset is', first_month)\n",
    "print('The last month in the dataset is', last_full_month)\n",
    "print('Which gives', (last_full_month.year - first_month.year)*12 \\\n",
    "                              + (last_full_month.month - first_month.month) + 1, 'months of data in total')\n",
    "print('Made up of', len(df), 'separate monthly demand quantities\\n')\n",
    "\n",
    "print('The full dataset has:')\n",
    "print(df['isbn'].nunique(), 'unique ISBNs, across')\n",
    "print(df['country'].nunique(), 'different countries, resulting in')\n",
    "print(df['key'].nunique(), 'separate ISBN/country combinations')\n",
    "\n",
    "\n",
    "#The last 12 months - I'll want to come back to this\n",
    "# print('\\nFor last 12 months\\n')\n",
    "# print('Number of unique ISBNs    ', df[df['month'] > twelve_months_ago]['isbn'].nunique())\n",
    "# print('Number of unique countries', df[df['month'] > twelve_months_ago]['country'].nunique())\n",
    "# print('Number of ISBN/country    ', df[df['month'] > twelve_months_ago]['key'].nunique())"
   ]
  },
  {
   "cell_type": "markdown",
   "id": "5bc4020c",
   "metadata": {},
   "source": [
    "## Demand Analysis\n",
    "\n",
    "How much demand is there for ELT products?"
   ]
  },
  {
   "cell_type": "markdown",
   "id": "b1446ead",
   "metadata": {},
   "source": [
    "### Aggregate Global Demand\n",
    "\n",
    "At the overall level? And how has this changed during the lifespan of the dataset?"
   ]
  },
  {
   "cell_type": "code",
   "execution_count": null,
   "id": "1d64aae4",
   "metadata": {},
   "outputs": [],
   "source": [
    "#Let's have a look at the overall demand profile\n",
    "\n",
    "ts = df.copy().groupby(\"month\")[[\"qty\"]].sum()\n",
    "ts_12ma = ts.rolling(window=12).mean()\n",
    "\n",
    "plt.subplots(figsize=(8, 6))\n",
    "\n",
    "plt.plot(ts, label=\"Total\")\n",
    "plt.plot(ts_12ma, label = '12m MA')\n",
    "\n",
    "#plt.title('Global demand')\n",
    "plt.xlabel('Month')\n",
    "plt.ylabel('Total Units')\n",
    "plt.ylim(bottom=0)\n",
    "plt.legend()\n",
    "plt.grid()\n",
    "plt.show();\n",
    "\n",
    "#We can see that:\n",
    "#1) There is significant monthly variation in the demand\n",
    "#2) Underlying demand fell significantly with the pandemic and remains lower (although slowly trending upwards?)"
   ]
  },
  {
   "cell_type": "code",
   "execution_count": null,
   "id": "be5177ea",
   "metadata": {},
   "outputs": [],
   "source": [
    "#Looking a bit more into the change by looking at the 12 month diff\n",
    "#I'm assuming 12 month seasonality here\n",
    "\n",
    "ts_12m_diff = ts.diff(12).dropna()\n",
    "\n",
    "plt.subplots(figsize=(8, 6))\n",
    "\n",
    "plt.plot(ts_12m_diff)\n",
    "\n",
    "#plt.title('Global Demand - Change from 12 months earlier')\n",
    "plt.xlabel('Month')\n",
    "plt.ylabel('Units Change')\n",
    "plt.grid()\n",
    "plt.show();\n",
    "\n",
    "#There was about a 1m drop in 2020 which has not (siginicantly recovered)\n",
    "#There is also significant variation +/-0.5m on orders of about 1.5m units"
   ]
  },
  {
   "cell_type": "markdown",
   "id": "838e19af",
   "metadata": {},
   "source": [
    "### At individual ISBN/country\n",
    "\n",
    "What does the demand look like at the level that we want to forecast i.e. by month for each isbn/country?"
   ]
  },
  {
   "cell_type": "code",
   "execution_count": null,
   "id": "6c70dccb",
   "metadata": {},
   "outputs": [],
   "source": [
    "#Let's look at 12 ISBN/country combinations at random\n",
    "np.random.seed(0) #To ensure always the same ones\n",
    "plot_list = df['key'].sample(12).to_list()\n",
    "\n",
    "COLS = 3\n",
    "\n",
    "rows = int(np.ceil(len(plot_list)/COLS))  #round up\n",
    "fig, axes = plt.subplots(rows, COLS, figsize = (16,rows*4))\n",
    "#The following is to iterate the axes\n",
    "axes_flat = axes.flat\n",
    "\n",
    "for i, key in enumerate(plot_list):\n",
    "    \n",
    "    ts_actuals = df[df['key'] == key][['month', 'qty']]\n",
    "    \n",
    "    #Plot these all on the same date range\n",
    "    start = first_month\n",
    "#     start = ts_actuals['month'].min()\n",
    "#     if start > twelve_months_ago:\n",
    "#         start = twelve_months_ago\n",
    "    \n",
    "    idx = pd.date_range(start, last_full_month, freq='M') \n",
    "\n",
    "    ts_actuals.set_index(pd.to_datetime(ts_actuals.month), inplace=True)\n",
    "    ts_actuals.drop(\"month\", axis=1, inplace=True)\n",
    "\n",
    "    #This is used to fill in the missing days\n",
    "    ts_actuals = ts_actuals.reindex(idx, fill_value=0).astype(int)\n",
    "    \n",
    "    ax = axes_flat[i]\n",
    "    ax.plot(ts_actuals)\n",
    "    ax.grid()\n",
    "    ax.set_title(key);\n",
    "         \n",
    "plt.tight_layout()\n",
    "plt.show();\n",
    "\n",
    "#This highlights a number of points straightaway.\n",
    "#FOR EXAMPLE - BUILD ON THIS LIST\n",
    "#1. Data tends to be very \"spikey\"\n",
    "#2. Lots of low demand\n",
    "#3. Lots of months with zero demand (how many?)\n",
    "#4. Not all TS cover the whole period (product lifecycle)\n",
    "#5. Negative demand in some countries (which is an artefact of the date being used)"
   ]
  },
  {
   "cell_type": "markdown",
   "id": "4d3a9d3e",
   "metadata": {},
   "source": [
    "### What's the variation of demand?\n",
    "\n",
    "This is both between isbn/countries (level) and within isbn/countries (seasonality):\n",
    "- Look at the last 12 months\n",
    "- Total demand (i.e overall levels of demand) i.e. what's the overall LEVEL of demand\n",
    "- Number of months with demand (i.e. the \"lumpiness\" of demand) which might indicate seasonality"
   ]
  },
  {
   "cell_type": "code",
   "execution_count": null,
   "id": "4af3d295",
   "metadata": {},
   "outputs": [],
   "source": [
    "#Let's look at the last 12 months\n",
    "\n",
    "df_12m_demand = df.copy()\n",
    "df_12m_demand = df_12m_demand[df_12m_demand['month'] > twelve_months_ago]\n",
    "\n",
    "#Calculate the number of months with demand - before aggregating\n",
    "df_mths_w_demand = df_12m_demand[['key', 'month']].groupby(['key']).count()\n",
    "df_mths_w_demand.rename(columns = {'month':'mths_w_orders'}, inplace = True)\n",
    "\n",
    "#Now aggregate and use cut to put order quantity into log10 bins\n",
    "df_12m_demand = df_12m_demand[['key', 'qty']].groupby(['key']).sum()\n",
    "df_12m_demand['qty_bin'] = pd.cut(df_12m_demand['qty'], [0, 10, 100, 1000, 10000, 100000],\n",
    "                           labels = ['<=10', '10-100', '100-1000', '1000-10000', '>10000'])\n",
    "\n",
    "#Join the number of months with demand\n",
    "df_12m_demand = df_12m_demand.join(df_mths_w_demand)\n",
    "#And tidy up\n",
    "del df_mths_w_demand\n",
    "\n",
    "#Plot a pie chart of the distribution of demand\n",
    "# y = df_12m_demand['qty_bin'].value_counts()\n",
    "# my_labels = ['<=10', '10-100', '100-1000', '1000-10000', '>10000']   \n",
    "# plt.pie(y, labels = my_labels)\n",
    "# plt.show();\n",
    "\n",
    "#And also the numbers of month with demand\n",
    "# y = df_12m_demand['mths_w_orders'].value_counts()\n",
    "# my_labels = ['1', '2', '3', '4', '5', '12', '6', '7', '8', '10', '9', '11']\n",
    "# plt.pie(y, labels = my_labels)\n",
    "# plt.show();\n",
    "\n",
    "#Create the crosstab\n",
    "df_crosstab = pd.crosstab(df_12m_demand['mths_w_orders'], columns=df_12m_demand['qty_bin'],\n",
    "                  values=df_12m_demand['qty'], aggfunc='count', margins = True)\n",
    "\n",
    "#Print and plot\n",
    "print(df_crosstab)\n",
    "\n",
    "# print('\\nHeatmap of the log10 values')\n",
    "# sns.heatmap(np.log10(df_crosstab.iloc[:12, :5]), vmin=0, vmax = 4.5, annot=True);\n",
    "\n",
    "#From which we can see that:\n",
    "#1. 50% of TS have orders of not more than 10/year (i.e. very low volumes)\n",
    "#2. Nearly 50% of orders have a single order (I can calculate more accurately, if needed)\n"
   ]
  },
  {
   "cell_type": "markdown",
   "id": "a34f1dfa",
   "metadata": {},
   "source": [
    "### How does this vary by country?\n",
    "\n",
    "There is value in looking at this as demand planners have to interact with sales managers at the country level"
   ]
  },
  {
   "cell_type": "code",
   "execution_count": null,
   "id": "302f4b99",
   "metadata": {},
   "outputs": [],
   "source": [
    "df_country = df[['country', 'qty']].groupby(['country']).sum().sort_values(by=['qty'], ascending = False)\n",
    "print('Total demand by country (units)\\n')\n",
    "print(df_country.head(12))"
   ]
  },
  {
   "cell_type": "code",
   "execution_count": null,
   "id": "3bb8dc0c",
   "metadata": {},
   "outputs": [],
   "source": [
    "country_list = list(df_country.index[:12])\n",
    "\n",
    "COLS = 3\n",
    "rows = int(np.ceil(len(country_list)/COLS))  #round up\n",
    "fig, axes = plt.subplots(rows, COLS, figsize = (16,rows*4))\n",
    "#The following is to iterate the axes\n",
    "axes_flat = axes.flat\n",
    "\n",
    "for i, country in enumerate(country_list):\n",
    "    \n",
    "    ts_actuals = df[df['country'] == country].groupby(\"month\")[[\"qty\"]].sum().reset_index()\n",
    "    \n",
    "    #Plot these all on the same date range\n",
    "    start = first_month\n",
    "    \n",
    "    idx = pd.date_range(start, last_full_month, freq='M') \n",
    "\n",
    "    ts_actuals.set_index(pd.to_datetime(ts_actuals.month), inplace=True)\n",
    "    ts_actuals.drop(\"month\", axis=1, inplace=True)\n",
    "\n",
    "    #This is used to fill in the missing days\n",
    "    ts_actuals = ts_actuals.reindex(idx, fill_value=0).astype(int)\n",
    "      \n",
    "    ax = axes_flat[i]\n",
    "    ax.plot(ts_actuals)\n",
    "    ax.set_ylim(bottom=0)\n",
    "    ax.grid()\n",
    "    ax.set_title(country);\n",
    "         \n",
    "plt.tight_layout()\n",
    "plt.show();\n",
    "\n",
    "#Some countries have clear patterns e.g. ES and TR."
   ]
  },
  {
   "cell_type": "markdown",
   "id": "bf789ddf",
   "metadata": {},
   "source": [
    "### And what about at ISBN level?"
   ]
  },
  {
   "cell_type": "code",
   "execution_count": null,
   "id": "857b10ca",
   "metadata": {},
   "outputs": [],
   "source": [
    "df_isbn = df[['isbn', 'qty']].groupby(['isbn']).sum().sort_values(by=['qty'], ascending = False)\n",
    "print('Total demand by isbn (units)\\n')\n",
    "print(df_isbn.head(12))"
   ]
  },
  {
   "cell_type": "code",
   "execution_count": null,
   "id": "f79165a8",
   "metadata": {},
   "outputs": [],
   "source": [
    "#Let's look at the top 12 ISBNs\n",
    "\n",
    "isbn_list = list(df_isbn.index[:12])\n",
    "\n",
    "COLS = 3\n",
    "rows = int(np.ceil(len(isbn_list)/COLS))  #round up\n",
    "fig, axes = plt.subplots(rows, COLS, figsize = (16,rows*4))\n",
    "#The following is to iterate the axes\n",
    "axes_flat = axes.flat\n",
    "\n",
    "for i, isbn in enumerate(isbn_list):\n",
    "    \n",
    "    ts_actuals = df[df['isbn'] == isbn].groupby(\"month\")[[\"qty\"]].sum().reset_index()\n",
    "    \n",
    "    #Plot these all on the same date range\n",
    "    start = first_month\n",
    "    \n",
    "    idx = pd.date_range(start, last_full_month, freq='M') \n",
    "\n",
    "    ts_actuals.set_index(pd.to_datetime(ts_actuals.month), inplace=True)\n",
    "    ts_actuals.drop(\"month\", axis=1, inplace=True)\n",
    "\n",
    "    #This is used to fill in the missing days\n",
    "    ts_actuals = ts_actuals.reindex(idx, fill_value=0).astype(int)\n",
    "    ax = axes_flat[i]\n",
    "    ax.plot(ts_actuals)\n",
    "    ax.set_ylim(bottom=0)\n",
    "    ax.grid()\n",
    "    ax.set_title(isbn);\n",
    "         \n",
    "plt.tight_layout()\n",
    "plt.show();\n",
    "\n",
    "#Very little pattern at this level"
   ]
  },
  {
   "cell_type": "code",
   "execution_count": null,
   "id": "76268bb3",
   "metadata": {},
   "outputs": [],
   "source": []
  }
 ],
 "metadata": {
  "kernelspec": {
   "display_name": "Python 3 (ipykernel)",
   "language": "python",
   "name": "python3"
  },
  "language_info": {
   "codemirror_mode": {
    "name": "ipython",
    "version": 3
   },
   "file_extension": ".py",
   "mimetype": "text/x-python",
   "name": "python",
   "nbconvert_exporter": "python",
   "pygments_lexer": "ipython3",
   "version": "3.9.7"
  }
 },
 "nbformat": 4,
 "nbformat_minor": 5
}
