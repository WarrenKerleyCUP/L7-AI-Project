{
 "cells": [
  {
   "cell_type": "markdown",
   "metadata": {},
   "source": [
    "# Holt-Winters for a Sample of Timeseries\n",
    "\n",
    "Repeat (some of) the analysis from the previous notebook but with a large sample\n",
    "\n",
    "Start with:\n",
    "\n",
    "- All Spanish ISBNs that have demand in the 12 months prior to 9 months ago i.e. will have a full year of history for forecasting\n",
    "- Holt-Winters with fixed hyperparameters"
   ]
  },
  {
   "cell_type": "code",
   "execution_count": null,
   "metadata": {},
   "outputs": [],
   "source": [
    "#Import libraries\n",
    "#NB I don't need anything that is only ref'd in helpers.py\n",
    "\n",
    "from helpers import *\n",
    "\n",
    "from sqlalchemy import create_engine\n",
    "import psycopg2\n",
    "import numpy as np\n",
    "import pandas as pd\n",
    "import datetime as dt\n",
    "\n",
    "import random #I'm going to us this for dev and testing\n",
    "\n",
    "from statsmodels.tsa.holtwinters import ExponentialSmoothing as hwes\n",
    "from sklearn.metrics import mean_squared_error\n",
    "\n",
    "import matplotlib.pyplot as plt\n",
    "%matplotlib inline\n",
    "\n",
    "#This is suppress all warnings in the notebook - turn when happy code works\n",
    "import warnings\n",
    "warnings.filterwarnings('ignore')"
   ]
  },
  {
   "cell_type": "code",
   "execution_count": null,
   "metadata": {},
   "outputs": [],
   "source": [
    "#Redshift user credentials - set here\n",
    "USER = \n",
    "PASSWORD = \n",
    "\n",
    "FCST_PERIOD = 9   #How many months I want to forecast ahead"
   ]
  },
  {
   "cell_type": "code",
   "execution_count": null,
   "metadata": {},
   "outputs": [],
   "source": [
    "#Create SQLAlchemy engine for Redshift database\n",
    "user = USER\n",
    "password = PASSWORD\n",
    "host= \n",
    "port='5439'\n",
    "dbname='prod'\n",
    "\n",
    "url = \"postgresql+psycopg2://{0}:{1}@{2}:{3}/{4}\".format(user, password, host, port, dbname)\n",
    "engine = create_engine(url)"
   ]
  },
  {
   "cell_type": "markdown",
   "metadata": {},
   "source": [
    "## 1. Get the catalog of ISBN/countries\n",
    "\n",
    "Hardcoded to Spain with demand in the period that we want to forecast (set by FCST_PERIOD above). This eliminates \"old\" ISBNs that are no longer being sold in Spain"
   ]
  },
  {
   "cell_type": "code",
   "execution_count": null,
   "metadata": {},
   "outputs": [],
   "source": [
    "query = f\"\"\"\n",
    "select\n",
    "    isbn + ship_to_country_key as key,\n",
    "    isbn,\n",
    "    isbn_short,\n",
    "    subject_2_key,\n",
    "    series_key,\n",
    "    series_short,\n",
    "    family_key,\n",
    "    family_name,\n",
    "    ship_to_country_key as country,\n",
    "    sum(quantity_demanded) as qty_fcst_period\n",
    "from r2ibp.f_demand_actual t1\n",
    "left join r2ibp.lu_product t2\n",
    "on t1.isbn = t2.isbn13\n",
    "where last_day(date) <= current_date\n",
    "and last_day(date) > dateadd(month, -{FCST_PERIOD}, current_date)\n",
    "and ship_to_country_key = 'ES'\n",
    "and isbn not like '555%%'\n",
    "group by isbn, isbn_short, subject_2_key, series_key, series_short, family_key, family_name, ship_to_country_key\n",
    "order by qty_fcst_period desc\n",
    "\"\"\"\n",
    "\n",
    "conn = engine.connect()\n",
    "df_catalog = pd.read_sql_query(query, conn)\n",
    "conn.close()"
   ]
  },
  {
   "cell_type": "markdown",
   "metadata": {},
   "source": [
    "## 2. Get demand data for the test cases\n",
    "\n",
    "Read all the demand data for the selected ISBN/countries. In this case Spanish ISBNs"
   ]
  },
  {
   "cell_type": "code",
   "execution_count": null,
   "metadata": {},
   "outputs": [],
   "source": [
    "key_list = list(df_catalog['key'])\n",
    "# key_list = random.sample(list(df_catalog['key']), 1000) #For testing\n",
    " \n",
    "df_demand = get_demand(key_list, engine)"
   ]
  },
  {
   "cell_type": "code",
   "execution_count": null,
   "metadata": {},
   "outputs": [],
   "source": [
    "#Let's look at the last 12 months\n",
    "first_month = df_demand['month'].min()\n",
    "last_full_month = df_demand['month'].max()\n",
    "twelve_months_ago =  last_full_month - dateutil.relativedelta.relativedelta(months=12)\n",
    "\n",
    "\n",
    "df_12m_demand = df_demand.copy()\n",
    "df_12m_demand = df_12m_demand[df_12m_demand['month'] > twelve_months_ago]\n",
    "\n",
    "#Calculate the number of months with demand - before aggregating\n",
    "df_mths_w_demand = df_12m_demand[['key', 'month']].groupby(['key']).count()\n",
    "df_mths_w_demand.rename(columns = {'month':'mths_w_orders'}, inplace = True)\n",
    "\n",
    "#Now aggregate and use cut to put order quantity into log10 bins\n",
    "df_12m_demand = df_12m_demand[['key', 'qty']].groupby(['key']).sum()\n",
    "df_12m_demand['qty_bin'] = pd.cut(df_12m_demand['qty'], [0, 10, 100, 1000, 10000, 100000],\n",
    "                           labels = ['<=10', '10-100', '100-1000', '1000-10000', '>10000'])\n",
    "\n",
    "#Join the number of months with demand\n",
    "df_12m_demand = df_12m_demand.join(df_mths_w_demand)\n",
    "#And tidy up\n",
    "del df_mths_w_demand\n",
    "\n",
    "#Print the crosstab\n",
    "df_crosstab = pd.crosstab(df_12m_demand['mths_w_orders'], columns=df_12m_demand['qty_bin'],\n",
    "                  values=df_12m_demand['qty'], aggfunc='count', margins = True)\n",
    "print(df_crosstab)\n"
   ]
  },
  {
   "cell_type": "markdown",
   "metadata": {},
   "source": [
    "## 3. Run Holt-Winters"
   ]
  },
  {
   "cell_type": "markdown",
   "metadata": {},
   "source": [
    "### Fit and Predict Using HWES"
   ]
  },
  {
   "cell_type": "code",
   "execution_count": null,
   "metadata": {},
   "outputs": [],
   "source": [
    "#Default config is ['add', False, 'add', False]\n",
    "config = ['add', True, 'add', False]\n",
    "\n",
    "df_errors, df_hwes_forecasts = predict_using_hwes(df_demand, FCST_PERIOD, config)"
   ]
  },
  {
   "cell_type": "markdown",
   "metadata": {},
   "source": [
    "### Calculate Accuracy Metrics for ISBN/country combinations forecast"
   ]
  },
  {
   "cell_type": "code",
   "execution_count": null,
   "metadata": {},
   "outputs": [],
   "source": [
    "df_metrics = calc_prediction_metrics(df_hwes_forecasts)\n",
    "\n",
    "df_metrics.head()"
   ]
  },
  {
   "cell_type": "markdown",
   "metadata": {},
   "source": [
    "## 4. How Good is HW?"
   ]
  },
  {
   "cell_type": "markdown",
   "metadata": {},
   "source": [
    "### In aggregate"
   ]
  },
  {
   "cell_type": "code",
   "execution_count": null,
   "metadata": {},
   "outputs": [],
   "source": [
    "plot_pred_naive1(df_metrics)"
   ]
  },
  {
   "cell_type": "markdown",
   "metadata": {},
   "source": [
    "### What about some specific examples?\n",
    "Look for cases where HW has been particularly good or particularly bad"
   ]
  },
  {
   "cell_type": "code",
   "execution_count": null,
   "metadata": {},
   "outputs": [],
   "source": [
    "df_metrics_sorted = df_metrics.dropna().sort_values(by='rmse_pc_diff', ascending = True)"
   ]
  },
  {
   "cell_type": "code",
   "execution_count": null,
   "metadata": {},
   "outputs": [],
   "source": [
    "df_metrics_sorted"
   ]
  },
  {
   "cell_type": "markdown",
   "metadata": {},
   "source": [
    "Plot the top 12 based on RMSE\n",
    "\n",
    "NB I should make the plotting code into a function as I'm constantly reusing it\n"
   ]
  },
  {
   "cell_type": "code",
   "execution_count": null,
   "metadata": {},
   "outputs": [],
   "source": [
    "plot_list = list(df_metrics_sorted.head(12)['key'])\n",
    "\n",
    "plot_sample_preds(plot_list, df_demand, df_hwes_forecasts, FCST_PERIOD)\n",
    "\n",
    "#NB There are negative values here\n",
    "\n",
    "df_metrics_sorted[df_metrics_sorted['key'].isin(plot_list)]"
   ]
  },
  {
   "cell_type": "markdown",
   "metadata": {},
   "source": [
    "This is the worst 12 based on RMSE"
   ]
  },
  {
   "cell_type": "code",
   "execution_count": null,
   "metadata": {},
   "outputs": [],
   "source": [
    "plot_list = list(df_metrics_sorted.tail(12)['key'])\n",
    "\n",
    "plot_sample_preds(plot_list, df_demand, df_hwes_forecasts, FCST_PERIOD)\n",
    "\n",
    "df_metrics_sorted[df_metrics_sorted['key'].isin(plot_list)]\n",
    "\n",
    "#These are all examples were naive-1 was exactly right (RMSE = 0)"
   ]
  },
  {
   "cell_type": "markdown",
   "metadata": {},
   "source": [
    "Finally a random selection"
   ]
  },
  {
   "cell_type": "code",
   "execution_count": null,
   "metadata": {
    "scrolled": false
   },
   "outputs": [],
   "source": [
    "random.seed(1234)\n",
    "random_list = random.sample(list(df_metrics_sorted['key']), 12)\n",
    "\n",
    "cols = ['key', 'rmse_pred', 'rmse_naive1', 'pred_rmse_lower', 'rmse_pc_diff']\n",
    "df_random_12 = df_metrics_sorted[df_metrics_sorted['key'].isin(random_list)][cols] #This is in sort order\n",
    "\n",
    "plot_list = list(df_random_12['key']) #So that the plots in the same order as the metrics\n",
    "\n",
    "plot_sample_preds(plot_list, df_demand, df_hwes_forecasts, FCST_PERIOD)\n",
    "df_random_12"
   ]
  },
  {
   "cell_type": "code",
   "execution_count": null,
   "metadata": {},
   "outputs": [],
   "source": []
  }
 ],
 "metadata": {
  "kernelspec": {
   "display_name": "Python 3 (ipykernel)",
   "language": "python",
   "name": "python3"
  },
  "language_info": {
   "codemirror_mode": {
    "name": "ipython",
    "version": 3
   },
   "file_extension": ".py",
   "mimetype": "text/x-python",
   "name": "python",
   "nbconvert_exporter": "python",
   "pygments_lexer": "ipython3",
   "version": "3.9.7"
  }
 },
 "nbformat": 4,
 "nbformat_minor": 2
}
